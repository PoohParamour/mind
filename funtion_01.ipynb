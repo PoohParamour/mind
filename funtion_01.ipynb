{
 "cells": [
  {
   "cell_type": "markdown",
   "metadata": {},
   "source": [
    "# def ชื่อฟังก์ชั่น (พารามิเตอร์):\n",
    "    คำสั่งที่ต้องการให้ทำงาน\n",
    "    return ค่าที่ต้องการส่งค่ากลับ (ถ้ามี)"
   ]
  },
  {
   "cell_type": "code",
   "execution_count": 2,
   "metadata": {},
   "outputs": [
    {
     "name": "stdout",
     "output_type": "stream",
     "text": [
      "hello world\n"
     ]
    }
   ],
   "source": [
    "def hi():\n",
    "    print(\"hello world\")\n",
    "hi()"
   ]
  },
  {
   "cell_type": "code",
   "execution_count": 3,
   "metadata": {},
   "outputs": [
    {
     "name": "stdout",
     "output_type": "stream",
     "text": [
      "สวัสดี คนหล่อ!\n"
     ]
    }
   ],
   "source": [
    "def greet(name):\n",
    "    print (f\"สวัสดี {name}!\")\n",
    "greet(\"คนหล่อ\")"
   ]
  },
  {
   "cell_type": "markdown",
   "metadata": {},
   "source": [
    "# ฟังก์ชันที่คืนค่า (Return Value)\n",
    "    ฟังก์ชันสามารถ คำนวณค่าและส่งค่ากลับ ด้วยคำสั่ง return"
   ]
  },
  {
   "cell_type": "code",
   "execution_count": 7,
   "metadata": {},
   "outputs": [
    {
     "name": "stdout",
     "output_type": "stream",
     "text": [
      "11\n"
     ]
    }
   ],
   "source": [
    "def add(a,b):\n",
    "    return a + b #คืนค่าผลรวม\n",
    "result = add(8,3) #รับค่าที่คืนมาจาก fuc \n",
    "print (result)"
   ]
  },
  {
   "cell_type": "markdown",
   "metadata": {},
   "source": [
    " # ฟังก์ชันที่มีพารามิเตอร์หลายตัว\n",
    "    เราสามารถส่งค่าหลายค่าไปยังฟังก์ชันได้"
   ]
  },
  {
   "cell_type": "code",
   "execution_count": 8,
   "metadata": {},
   "outputs": [
    {
     "name": "stdout",
     "output_type": "stream",
     "text": [
      "400\n"
     ]
    }
   ],
   "source": [
    "# คำนวณพื้นที่สี่เหลี่ยมผืนผ้า\n",
    "def area(w,h):\n",
    "    return w*h\n",
    "print (area(50,8))\n"
   ]
  },
  {
   "cell_type": "markdown",
   "metadata": {},
   "source": [
    "ฟังก์ชัน Built-in ใน Python\n",
    "Python มีฟังก์ชันที่ใช้ได้เลยโดยไม่ต้องสร้างเอง เช่น\n",
    "✅ abs(x) – หาค่าสัมบูรณ์\n",
    "✅ max(a, b, c, ...) – หาค่าสูงสุด\n",
    "✅ min(a, b, c, ...) – หาค่าต่ำสุด\n",
    "✅ len(s) – หาความยาวของสตริงหรือรายการ\n",
    "✅ sum(list) – หาผลรวมของรายการ"
   ]
  },
  {
   "cell_type": "code",
   "execution_count": 18,
   "metadata": {},
   "outputs": [
    {
     "name": "stdout",
     "output_type": "stream",
     "text": [
      "15\n",
      "9\n",
      "10\n",
      "4\n"
     ]
    }
   ],
   "source": [
    "print (abs(-15))\n",
    "print(max(8,9,2))\n",
    "print(min(10,12,16))\n",
    "print(len(\"mind\"))\n"
   ]
  },
  {
   "cell_type": "markdown",
   "metadata": {},
   "source": [
    "# 7. Pass by Value & Pass by Reference\n",
    "📌 Pass by Value – ส่งค่าไป แต่ค่าเดิมไม่เปลี่ยน\n",
    "📌 Pass by Reference – ส่งตำแหน่งหน่วยความจำไป ค่าเดิมเปลี่ยน\n",
    "\n",
    "🔹 ตัวอย่าง 6: Pass by Reference กับ List"
   ]
  },
  {
   "cell_type": "code",
   "execution_count": 21,
   "metadata": {},
   "outputs": [
    {
     "name": "stdout",
     "output_type": "stream",
     "text": [
      "[1, 2, 3, 100]\n"
     ]
    }
   ],
   "source": [
    "def modifly(my_list):\n",
    "    my_list.append(100) # เพิ่มค่าเข้าไปในรายการ\n",
    "nums = [1,2,3]\n",
    "modifly(nums)\n",
    "print(nums) # ค่าเปลี่ยนไป\n"
   ]
  },
  {
   "cell_type": "markdown",
   "metadata": {},
   "source": [
    " # 8. Workshop: สร้างฟังก์ชันใช้งาน\n",
    "📌 โจทย์: สร้างฟังก์ชัน calculate_discount(price, discount_percent) คำนวณราคาหลังลดราคา"
   ]
  },
  {
   "cell_type": "code",
   "execution_count": 25,
   "metadata": {},
   "outputs": [
    {
     "name": "stdout",
     "output_type": "stream",
     "text": [
      "ราคาหลังจากลด 10 % เหลือ: 900.0 บาท\n"
     ]
    }
   ],
   "source": [
    "def cal_dis(price,dis_per):\n",
    "    discount = price * (dis_per/100)\n",
    "    return price - discount\n",
    "price = 1000\n",
    "discount = 10\n",
    "final_price = cal_dis(price,discount)\n",
    "print (f\"ราคาหลังจากลด {discount} % เหลือ: {final_price} บาท\")"
   ]
  },
  {
   "cell_type": "markdown",
   "metadata": {},
   "source": [
    "📌 9. แบบฝึกหัด"
   ]
  },
  {
   "cell_type": "markdown",
   "metadata": {},
   "source": [
    " 1. สร้างฟังก์ชัน multiply(x, y) คูณตัวเลขสองตัว"
   ]
  },
  {
   "cell_type": "code",
   "execution_count": 29,
   "metadata": {},
   "outputs": [
    {
     "name": "stdout",
     "output_type": "stream",
     "text": [
      "7200\n"
     ]
    }
   ],
   "source": [
    "def multiply(x,y):\n",
    "    return x*y\n",
    "print(multiply(80,90))"
   ]
  },
  {
   "cell_type": "markdown",
   "metadata": {},
   "source": [
    "2. สร้างฟังก์ชัน is_even(n) เช็คว่าเป็นเลขคู่หรือไม่"
   ]
  },
  {
   "cell_type": "code",
   "execution_count": 33,
   "metadata": {},
   "outputs": [
    {
     "name": "stdout",
     "output_type": "stream",
     "text": [
      "เลขคี่\n"
     ]
    }
   ],
   "source": [
    "def is_even(n):\n",
    "    if n % 2 == 0:\n",
    "        return \"เลขคู่\"\n",
    "    else:\n",
    "        return \"เลขคี่\"\n",
    "print(is_even(85))"
   ]
  },
  {
   "cell_type": "code",
   "execution_count": 34,
   "metadata": {},
   "outputs": [
    {
     "name": "stdout",
     "output_type": "stream",
     "text": [
      "เลขคู่\n"
     ]
    }
   ],
   "source": [
    "def is_even(n):\n",
    "    if n % 2 == 0:\n",
    "        return \"เลขคู่\"\n",
    "    else:\n",
    "        return \"เลขคี่\"\n",
    "print(is_even(70))"
   ]
  },
  {
   "cell_type": "markdown",
   "metadata": {},
   "source": [
    "✅ 3. สร้างฟังก์ชัน greet_user(name, age) แสดง \"สวัสดี คนสวย! คุณอายุ 18 ปี\""
   ]
  },
  {
   "cell_type": "code",
   "execution_count": 38,
   "metadata": {},
   "outputs": [
    {
     "name": "stdout",
     "output_type": "stream",
     "text": [
      "สวัสดี คนสวย! คุณอายุ 18 ปี \n"
     ]
    }
   ],
   "source": [
    "def greet_user(name,age):\n",
    "    return f\"สวัสดี {name}! คุณอายุ {age} ปี \"\n",
    "name = \"คนสวย\"\n",
    "age = 18\n",
    "\n",
    "print(greet_user(name,age))"
   ]
  },
  {
   "cell_type": "code",
   "execution_count": 39,
   "metadata": {},
   "outputs": [
    {
     "name": "stdout",
     "output_type": "stream",
     "text": [
      "สวัสดี poohpol! คุณอายุ 19 ปี \n"
     ]
    }
   ],
   "source": [
    "print(greet_user(\"poohpol\",19))"
   ]
  },
  {
   "cell_type": "code",
   "execution_count": 40,
   "metadata": {},
   "outputs": [
    {
     "name": "stdout",
     "output_type": "stream",
     "text": [
      "สวัสดี Greet! คุณอายุ 20 ปี \n"
     ]
    }
   ],
   "source": [
    "print(greet_user(\"Greet\",20))"
   ]
  }
 ],
 "metadata": {
  "kernelspec": {
   "display_name": "base",
   "language": "python",
   "name": "python3"
  },
  "language_info": {
   "codemirror_mode": {
    "name": "ipython",
    "version": 3
   },
   "file_extension": ".py",
   "mimetype": "text/x-python",
   "name": "python",
   "nbconvert_exporter": "python",
   "pygments_lexer": "ipython3",
   "version": "3.12.4"
  }
 },
 "nbformat": 4,
 "nbformat_minor": 2
}
